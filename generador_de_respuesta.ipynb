{
  "nbformat": 4,
  "nbformat_minor": 0,
  "metadata": {
    "colab": {
      "provenance": [],
      "include_colab_link": true
    },
    "kernelspec": {
      "name": "python3",
      "display_name": "Python 3"
    },
    "language_info": {
      "name": "python"
    }
  },
  "cells": [
    {
      "cell_type": "markdown",
      "metadata": {
        "id": "view-in-github",
        "colab_type": "text"
      },
      "source": [
        "<a href=\"https://colab.research.google.com/github/HectorArielBaez/labo3-25/blob/main/generador_de_respuesta.ipynb\" target=\"_parent\"><img src=\"https://colab.research.google.com/assets/colab-badge.svg\" alt=\"Open In Colab\"/></a>"
      ]
    },
    {
      "cell_type": "code",
      "source": [
        "import pandas as pd\n",
        "import os\n",
        "\n",
        "# Ruta a la carpeta con los CSV\n",
        "ruta_carpeta = \"/content/Salidas\"  # ← CAMBIAR por tu ruta real\n",
        "archivos = [f for f in os.listdir(ruta_carpeta) if f.endswith(\".csv\")]\n",
        "\n",
        "df_final = None\n",
        "\n",
        "for archivo in archivos:\n",
        "    path = os.path.join(ruta_carpeta, archivo)\n",
        "    df = pd.read_csv(path)\n",
        "\n",
        "    base = os.path.splitext(archivo)[0]\n",
        "\n",
        "    # Renombrar columnas pred_tn y tn_feb con el nombre del archivo\n",
        "    df = df.rename(columns={\n",
        "        \"pred_tn\": f\"{base}_pred_tn\",\n",
        "        \"tn_feb\": f\"{base}_tn_feb\",\n",
        "        \"real_tn\": f\"{base}_real_tn\"  # evitar colisión si hay diferencias\n",
        "    })\n",
        "\n",
        "    if df_final is None:\n",
        "        df_final = df\n",
        "    else:\n",
        "        df_final = pd.merge(df_final, df, on=\"product_id\", how=\"inner\")\n",
        "# Eliminar duplicados si quedara alguno\n",
        "df_final = df_final.drop_duplicates(subset=[\"product_id\"])\n",
        "# Guardar resultado\n",
        "df_final.to_csv(\"combinado_por_product_id.csv\", index=False)\n",
        "print(\"Archivo guardado como 'combinado_por_product_id.csv'\")\n"
      ],
      "metadata": {
        "colab": {
          "base_uri": "https://localhost:8080/"
        },
        "id": "RfbDqni5Lpzi",
        "outputId": "8e47e1b6-b846-47d8-dd64-c6af76f705bc"
      },
      "execution_count": null,
      "outputs": [
        {
          "output_type": "stream",
          "name": "stdout",
          "text": [
            "Archivo guardado como 'combinado_por_product_id.csv'\n"
          ]
        }
      ]
    },
    {
      "cell_type": "code",
      "source": [
        "import pandas as pd\n",
        "import numpy as np\n",
        "\n",
        "# Suponemos que df_final ya existe (resultado del merge anterior)\n",
        "columna_id = df_final.columns[0]   # columna 0\n",
        "columna_ref = df_final.columns[1]  # columna 1 (valor real)\n",
        "\n",
        "resultados = []\n",
        "\n",
        "for idx, fila in df_final.iterrows():\n",
        "    ref = fila[columna_ref]\n",
        "    errores = {}\n",
        "\n",
        "    # Recorremos columnas 2, 4, 6, ..., es decir, columnas impares por índice\n",
        "    for i in range(2, df_final.shape[1], 2):  # columnas 3, 5, 7,... (index 2, 4, 6...)\n",
        "        pred = fila[i]\n",
        "        if pd.notnull(pred):\n",
        "            errores[i] = abs(ref - pred)\n",
        "\n",
        "    if errores:\n",
        "        col_mejor = min(errores, key=errores.get)  # índice de la mejor predicción\n",
        "        col_siguiente = col_mejor + 1\n",
        "\n",
        "        if col_siguiente < df_final.shape[1]:\n",
        "            valor_siguiente = fila[col_siguiente]\n",
        "        else:\n",
        "            valor_siguiente = np.nan\n",
        "\n",
        "        resultados.append({\n",
        "            columna_id: fila[columna_id],\n",
        "            \"tn\": valor_siguiente\n",
        "        })\n",
        "\n",
        "# Crear DataFrame final\n",
        "df_resultado = pd.DataFrame(resultados)\n",
        "\n",
        "# Guardar resultado si querés\n",
        "df_resultado.to_csv(\"mejor_prediccion.csv\", index=False)\n",
        "print(\"Archivo 'mejor_prediccion.csv' generado correctamente.\")\n"
      ],
      "metadata": {
        "colab": {
          "base_uri": "https://localhost:8080/"
        },
        "id": "s6varL_7AuHe",
        "outputId": "d8f20874-944f-4f18-e108-8ce18f13bb5b"
      },
      "execution_count": null,
      "outputs": [
        {
          "output_type": "stream",
          "name": "stdout",
          "text": [
            "Archivo 'mejor_prediccion.csv' generado correctamente.\n"
          ]
        },
        {
          "output_type": "stream",
          "name": "stderr",
          "text": [
            "/tmp/ipython-input-16-2998919610.py:16: FutureWarning: Series.__getitem__ treating keys as positions is deprecated. In a future version, integer keys will always be treated as labels (consistent with DataFrame behavior). To access a value by position, use `ser.iloc[pos]`\n",
            "  pred = fila[i]\n",
            "/tmp/ipython-input-16-2998919610.py:25: FutureWarning: Series.__getitem__ treating keys as positions is deprecated. In a future version, integer keys will always be treated as labels (consistent with DataFrame behavior). To access a value by position, use `ser.iloc[pos]`\n",
            "  valor_siguiente = fila[col_siguiente]\n"
          ]
        }
      ]
    }
  ]
}